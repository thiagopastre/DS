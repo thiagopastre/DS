{
 "cells": [
  {
   "cell_type": "markdown",
   "id": "8b53c974",
   "metadata": {},
   "source": [
    "## Objetivo"
   ]
  },
  {
   "cell_type": "markdown",
   "id": "e38b1908",
   "metadata": {},
   "source": [
    "Nesse projeto busco consolidar os conhecimentos adquiridos nos 3 módulos da disciplinha de Machine Learning.\n",
    "\n",
    "Como resultado teremos um modelo capaz de identificar o risco de crédito para a instituição financeira ao realizar um empréstimo para seus clientes."
   ]
  },
  {
   "cell_type": "markdown",
   "id": "712418b3",
   "metadata": {},
   "source": [
    "## Requisitos"
   ]
  },
  {
   "cell_type": "markdown",
   "id": "d0616521",
   "metadata": {},
   "source": [
    "Fazer todo processo de modelagem iniciando seguindo o fluxo de EDA, tratamento dos dados, comparação entre modelos e escolha do melhor modelo, seleção de features, redução de dimensionalidade, interpretação dos modelos e otimização de hiperparâmetros."
   ]
  },
  {
   "cell_type": "markdown",
   "id": "a43870db",
   "metadata": {},
   "source": [
    "## Dados"
   ]
  },
  {
   "cell_type": "markdown",
   "id": "90b254ec",
   "metadata": {},
   "source": [
    "Para realização dessa tarefa utilizamos um dataset com as informações de empréstimos realizados previamente pela instituição.\n",
    "\n",
    "- [Link para o dataset (Kaggle)](https://www.kaggle.com/competitions/home-credit-default-risk/data)"
   ]
  },
  {
   "cell_type": "markdown",
   "id": "0eafce63",
   "metadata": {},
   "source": [
    "### Observação importante:"
   ]
  },
  {
   "cell_type": "markdown",
   "id": "5a268e50",
   "metadata": {},
   "source": [
    "Nesse documento busco apresentar apenas os insights obtidos no decorrer do projeto.\n",
    "\n",
    "Todos os códigos e análises realizadas encontram-se identificados nos links dispostos no decorrer desse documento para facilitar sua leitura."
   ]
  },
  {
   "cell_type": "code",
   "execution_count": 59,
   "id": "46f2d9fd",
   "metadata": {},
   "outputs": [],
   "source": [
    "import pandas as pd\n",
    "import numpy as np\n",
    "import matplotlib.pyplot as plt\n",
    "import seaborn as sns"
   ]
  },
  {
   "cell_type": "code",
   "execution_count": 60,
   "id": "358ac8d3",
   "metadata": {},
   "outputs": [
    {
     "data": {
      "text/html": [
       "<div>\n",
       "<style scoped>\n",
       "    .dataframe tbody tr th:only-of-type {\n",
       "        vertical-align: middle;\n",
       "    }\n",
       "\n",
       "    .dataframe tbody tr th {\n",
       "        vertical-align: top;\n",
       "    }\n",
       "\n",
       "    .dataframe thead th {\n",
       "        text-align: right;\n",
       "    }\n",
       "</style>\n",
       "<table border=\"1\" class=\"dataframe\">\n",
       "  <thead>\n",
       "    <tr style=\"text-align: right;\">\n",
       "      <th></th>\n",
       "      <th>SK_ID_CURR</th>\n",
       "      <th>TARGET</th>\n",
       "      <th>NAME_CONTRACT_TYPE</th>\n",
       "      <th>CODE_GENDER</th>\n",
       "      <th>FLAG_OWN_CAR</th>\n",
       "      <th>FLAG_OWN_REALTY</th>\n",
       "      <th>CNT_CHILDREN</th>\n",
       "      <th>AMT_INCOME_TOTAL</th>\n",
       "      <th>AMT_CREDIT</th>\n",
       "      <th>AMT_ANNUITY</th>\n",
       "      <th>...</th>\n",
       "      <th>FLAG_DOCUMENT_18</th>\n",
       "      <th>FLAG_DOCUMENT_19</th>\n",
       "      <th>FLAG_DOCUMENT_20</th>\n",
       "      <th>FLAG_DOCUMENT_21</th>\n",
       "      <th>AMT_REQ_CREDIT_BUREAU_HOUR</th>\n",
       "      <th>AMT_REQ_CREDIT_BUREAU_DAY</th>\n",
       "      <th>AMT_REQ_CREDIT_BUREAU_WEEK</th>\n",
       "      <th>AMT_REQ_CREDIT_BUREAU_MON</th>\n",
       "      <th>AMT_REQ_CREDIT_BUREAU_QRT</th>\n",
       "      <th>AMT_REQ_CREDIT_BUREAU_YEAR</th>\n",
       "    </tr>\n",
       "  </thead>\n",
       "  <tbody>\n",
       "    <tr>\n",
       "      <th>0</th>\n",
       "      <td>100002</td>\n",
       "      <td>1</td>\n",
       "      <td>Cash loans</td>\n",
       "      <td>M</td>\n",
       "      <td>N</td>\n",
       "      <td>Y</td>\n",
       "      <td>0</td>\n",
       "      <td>202500.0</td>\n",
       "      <td>406597.5</td>\n",
       "      <td>24700.5</td>\n",
       "      <td>...</td>\n",
       "      <td>0</td>\n",
       "      <td>0</td>\n",
       "      <td>0</td>\n",
       "      <td>0</td>\n",
       "      <td>0.0</td>\n",
       "      <td>0.0</td>\n",
       "      <td>0.0</td>\n",
       "      <td>0.0</td>\n",
       "      <td>0.0</td>\n",
       "      <td>1.0</td>\n",
       "    </tr>\n",
       "    <tr>\n",
       "      <th>1</th>\n",
       "      <td>100003</td>\n",
       "      <td>0</td>\n",
       "      <td>Cash loans</td>\n",
       "      <td>F</td>\n",
       "      <td>N</td>\n",
       "      <td>N</td>\n",
       "      <td>0</td>\n",
       "      <td>270000.0</td>\n",
       "      <td>1293502.5</td>\n",
       "      <td>35698.5</td>\n",
       "      <td>...</td>\n",
       "      <td>0</td>\n",
       "      <td>0</td>\n",
       "      <td>0</td>\n",
       "      <td>0</td>\n",
       "      <td>0.0</td>\n",
       "      <td>0.0</td>\n",
       "      <td>0.0</td>\n",
       "      <td>0.0</td>\n",
       "      <td>0.0</td>\n",
       "      <td>0.0</td>\n",
       "    </tr>\n",
       "    <tr>\n",
       "      <th>2</th>\n",
       "      <td>100004</td>\n",
       "      <td>0</td>\n",
       "      <td>Revolving loans</td>\n",
       "      <td>M</td>\n",
       "      <td>Y</td>\n",
       "      <td>Y</td>\n",
       "      <td>0</td>\n",
       "      <td>67500.0</td>\n",
       "      <td>135000.0</td>\n",
       "      <td>6750.0</td>\n",
       "      <td>...</td>\n",
       "      <td>0</td>\n",
       "      <td>0</td>\n",
       "      <td>0</td>\n",
       "      <td>0</td>\n",
       "      <td>0.0</td>\n",
       "      <td>0.0</td>\n",
       "      <td>0.0</td>\n",
       "      <td>0.0</td>\n",
       "      <td>0.0</td>\n",
       "      <td>0.0</td>\n",
       "    </tr>\n",
       "    <tr>\n",
       "      <th>3</th>\n",
       "      <td>100006</td>\n",
       "      <td>0</td>\n",
       "      <td>Cash loans</td>\n",
       "      <td>F</td>\n",
       "      <td>N</td>\n",
       "      <td>Y</td>\n",
       "      <td>0</td>\n",
       "      <td>135000.0</td>\n",
       "      <td>312682.5</td>\n",
       "      <td>29686.5</td>\n",
       "      <td>...</td>\n",
       "      <td>0</td>\n",
       "      <td>0</td>\n",
       "      <td>0</td>\n",
       "      <td>0</td>\n",
       "      <td>NaN</td>\n",
       "      <td>NaN</td>\n",
       "      <td>NaN</td>\n",
       "      <td>NaN</td>\n",
       "      <td>NaN</td>\n",
       "      <td>NaN</td>\n",
       "    </tr>\n",
       "    <tr>\n",
       "      <th>4</th>\n",
       "      <td>100007</td>\n",
       "      <td>0</td>\n",
       "      <td>Cash loans</td>\n",
       "      <td>M</td>\n",
       "      <td>N</td>\n",
       "      <td>Y</td>\n",
       "      <td>0</td>\n",
       "      <td>121500.0</td>\n",
       "      <td>513000.0</td>\n",
       "      <td>21865.5</td>\n",
       "      <td>...</td>\n",
       "      <td>0</td>\n",
       "      <td>0</td>\n",
       "      <td>0</td>\n",
       "      <td>0</td>\n",
       "      <td>0.0</td>\n",
       "      <td>0.0</td>\n",
       "      <td>0.0</td>\n",
       "      <td>0.0</td>\n",
       "      <td>0.0</td>\n",
       "      <td>0.0</td>\n",
       "    </tr>\n",
       "  </tbody>\n",
       "</table>\n",
       "<p>5 rows × 122 columns</p>\n",
       "</div>"
      ],
      "text/plain": [
       "   SK_ID_CURR  TARGET NAME_CONTRACT_TYPE CODE_GENDER FLAG_OWN_CAR  \\\n",
       "0      100002       1         Cash loans           M            N   \n",
       "1      100003       0         Cash loans           F            N   \n",
       "2      100004       0    Revolving loans           M            Y   \n",
       "3      100006       0         Cash loans           F            N   \n",
       "4      100007       0         Cash loans           M            N   \n",
       "\n",
       "  FLAG_OWN_REALTY  CNT_CHILDREN  AMT_INCOME_TOTAL  AMT_CREDIT  AMT_ANNUITY  \\\n",
       "0               Y             0          202500.0    406597.5      24700.5   \n",
       "1               N             0          270000.0   1293502.5      35698.5   \n",
       "2               Y             0           67500.0    135000.0       6750.0   \n",
       "3               Y             0          135000.0    312682.5      29686.5   \n",
       "4               Y             0          121500.0    513000.0      21865.5   \n",
       "\n",
       "   ...  FLAG_DOCUMENT_18 FLAG_DOCUMENT_19 FLAG_DOCUMENT_20 FLAG_DOCUMENT_21  \\\n",
       "0  ...                 0                0                0                0   \n",
       "1  ...                 0                0                0                0   \n",
       "2  ...                 0                0                0                0   \n",
       "3  ...                 0                0                0                0   \n",
       "4  ...                 0                0                0                0   \n",
       "\n",
       "  AMT_REQ_CREDIT_BUREAU_HOUR AMT_REQ_CREDIT_BUREAU_DAY  \\\n",
       "0                        0.0                       0.0   \n",
       "1                        0.0                       0.0   \n",
       "2                        0.0                       0.0   \n",
       "3                        NaN                       NaN   \n",
       "4                        0.0                       0.0   \n",
       "\n",
       "   AMT_REQ_CREDIT_BUREAU_WEEK  AMT_REQ_CREDIT_BUREAU_MON  \\\n",
       "0                         0.0                        0.0   \n",
       "1                         0.0                        0.0   \n",
       "2                         0.0                        0.0   \n",
       "3                         NaN                        NaN   \n",
       "4                         0.0                        0.0   \n",
       "\n",
       "   AMT_REQ_CREDIT_BUREAU_QRT  AMT_REQ_CREDIT_BUREAU_YEAR  \n",
       "0                        0.0                         1.0  \n",
       "1                        0.0                         0.0  \n",
       "2                        0.0                         0.0  \n",
       "3                        NaN                         NaN  \n",
       "4                        0.0                         0.0  \n",
       "\n",
       "[5 rows x 122 columns]"
      ]
     },
     "execution_count": 60,
     "metadata": {},
     "output_type": "execute_result"
    }
   ],
   "source": [
    "df = pd.read_csv('./datasets/application_train.csv')\n",
    "df.head()"
   ]
  },
  {
   "cell_type": "markdown",
   "id": "d62ec0fa",
   "metadata": {},
   "source": [
    "- [Link para o dicionário de dados](./images/dicionario_de_dados.html)"
   ]
  },
  {
   "cell_type": "markdown",
   "id": "0798751f",
   "metadata": {},
   "source": [
    "## EDA"
   ]
  },
  {
   "cell_type": "markdown",
   "id": "b74085c2",
   "metadata": {},
   "source": [
    "Verificando a distribuição da variável TARGET, identificamos um grande desbalanceamento entre as classes."
   ]
  },
  {
   "cell_type": "code",
   "execution_count": 103,
   "id": "0e799ea2",
   "metadata": {},
   "outputs": [
    {
     "data": {
      "image/png": "[encoded data removed]",
      "text/plain": [
       "<Figure size 432x288 with 1 Axes>"
      ]
     },
     "metadata": {
      "needs_background": "light"
     },
     "output_type": "display_data"
    }
   ],
   "source": [
    "sns.countplot(x=df['TARGET']);"
   ]
  },
  {
   "cell_type": "markdown",
   "id": "4be028c2",
   "metadata": {},
   "source": [
    "Separamos o dataset para facilitar o tratamento das variáveis (categóricas e numéricas) e encontramos uma grande quantidade de valores nulos."
   ]
  },
  {
   "cell_type": "markdown",
   "id": "0988539b",
   "metadata": {},
   "source": [
    "<img src='https://github.com/thiagopastre/DS/blob/0fbd4959da32606b8611fcfda7c757c81c549922/images/nulls.png' align=left>"
   ]
  },
  {
   "cell_type": "markdown",
   "id": "82de74c0",
   "metadata": {},
   "source": [
    "### Features numéricas"
   ]
  },
  {
   "cell_type": "markdown",
   "id": "1e063101",
   "metadata": {},
   "source": [
    "Optamos por descartar as features numéricas que tivessem uma quantidade de valores nulos acima de 50% pois não trariam informações relevantes para o modelo e tivemos uma redução de 36% nas variáveis numéricas do dataset."
   ]
  },
  {
   "cell_type": "markdown",
   "id": "da633610",
   "metadata": {},
   "source": [
    "Em seguida normalizamos os dados com o StandardScaler e utilizamos o VarianceThreshold para selecionar as features que possuíam maior variância.\n",
    "Com esses ajustes tivemos uma redução de mais 31% nas features numéricas do dataset.\n",
    "\n",
    "Porém nenhuma das features restante possui uma boa correlação com o TARGET."
   ]
  },
  {
   "cell_type": "markdown",
   "id": "bc2ba4c7",
   "metadata": {},
   "source": [
    "<img src=.\\images\\target_corr.png align=left>"
   ]
  },
  {
   "cell_type": "markdown",
   "id": "c4e8871d",
   "metadata": {},
   "source": [
    "Com auxílio do mapa de calor pudemos identificar e remover as multicolinearidades restantes."
   ]
  },
  {
   "cell_type": "markdown",
   "id": "140f498c",
   "metadata": {},
   "source": [
    "<img src=.\\images\\heatmap.png align=left>"
   ]
  },
  {
   "cell_type": "markdown",
   "id": "ecff78b1",
   "metadata": {},
   "source": [
    "Nesse momento ainda restaram algumas features com valores nulos e decidimos inserir a mediana utilizando o SimpleImputer.\n",
    "\n",
    "Chegamos ao tratamento de outliers e observamos o seguinte problema:"
   ]
  },
  {
   "cell_type": "markdown",
   "id": "4ba0d4ce",
   "metadata": {},
   "source": [
    "#### Observamos que executando o código abaixo para remoção de outliers, todos os registros da classe 1 eram excluídos\n",
    "```python\n",
    "Q1 = numeric_features.quantile(0.25)\n",
    "Q3 = numeric_features.quantile(0.75)\n",
    "IQR = Q3 - Q1\n",
    "\n",
    "result = numeric_features[~((numeric_features < (Q1 - 1.5 * IQR)) |(numeric_features > (Q3 + 1.5 * IQR))).any(axis=1)]\n",
    "```"
   ]
  },
  {
   "cell_type": "markdown",
   "id": "fd1a73ad",
   "metadata": {},
   "source": [
    "Então resolvemos separar por TARGET para avaliar os outliers individualmente e assim conseguimos tratá-los.\n",
    "\n",
    "**OBS: Sem conhecimento prévio do negócio pudemos apenas identificar os outliers, porém não temos como saber se realmente são outliers ou valores que podem ser válidos para o negócio.**"
   ]
  },
  {
   "cell_type": "markdown",
   "id": "da041eba",
   "metadata": {},
   "source": [
    "### Features categóricas"
   ]
  },
  {
   "cell_type": "markdown",
   "id": "380f333d",
   "metadata": {},
   "source": [
    "Inicialmente transformamos as features categóricas com uso do TargetEncoder.\n",
    "\n",
    "Optamos por esse método pois a utilização do OneHotEncoder (nesse cenário) iria gerar uma quantidade muito elevada de novas variáveis, o que iria em sentido contrário à redução de dimensionalidade que buscamos desde o início."
   ]
  },
  {
   "cell_type": "markdown",
   "id": "b5cccbfa",
   "metadata": {},
   "source": [
    "Para uma seleção automatizada das features mais importantes utilizamos o SelectKBest, onde testamos diversas possibilidades para o número \"ideal\" de features.\n",
    "\n",
    "O fluxograma abaixo ilustra o tratamento aplicados às features categóricas:"
   ]
  },
  {
   "cell_type": "markdown",
   "id": "2cb494b5",
   "metadata": {},
   "source": [
    "<img src=.\\images\\fluxograma.jpg align=left>"
   ]
  },
  {
   "cell_type": "markdown",
   "id": "5295e025",
   "metadata": {},
   "source": [
    "Nosso dataset, que originalmente continha 121 features, passou a ficar com apenas 38 features mais relevantes.\n",
    "\n",
    "Essa redução se mostrou importante, pois ficará claro nas etapas seguintes que as features removidas prejudicavam o desempenho dos modelos testados. "
   ]
  },
  {
   "cell_type": "markdown",
   "id": "7145d41a",
   "metadata": {},
   "source": [
    "- [Link para o notebook contendo os códigos da EDA](./codigos/1.Selecao_features.ipynb)"
   ]
  },
  {
   "cell_type": "markdown",
   "id": "aa876aba",
   "metadata": {},
   "source": [
    "## Modelagem"
   ]
  },
  {
   "cell_type": "markdown",
   "id": "56a274c5",
   "metadata": {},
   "source": [
    "Para criação do modelo baseline, simplesmente descartamos as features categóricas e inserimos o valor da mediana onde haviam dados nulos."
   ]
  },
  {
   "cell_type": "markdown",
   "id": "c893b579",
   "metadata": {},
   "source": [
    "Utilizamos a **Regressão Logística** e obtivemos o seguinte resultado:"
   ]
  },
  {
   "cell_type": "markdown",
   "id": "56d2de50",
   "metadata": {},
   "source": [
    "<img src=.\\images\\baseline.png align=left>"
   ]
  },
  {
   "cell_type": "markdown",
   "id": "a0bc0b1c",
   "metadata": {},
   "source": [
    "O modelo baseline é bastante assertivo na previsão da classe 0, porém nosso interesse está na classe 1. Sendo assim o resultado desse modelo é nulo."
   ]
  },
  {
   "cell_type": "markdown",
   "id": "8f32976e",
   "metadata": {},
   "source": [
    "- [Link para o notebook contendo os códigos do modelo Baseline](./codigos/2.Modelagem_baseline.ipynb)"
   ]
  },
  {
   "cell_type": "markdown",
   "id": "ad740b8b",
   "metadata": {},
   "source": [
    "Em nossa segunda tentativa, utilizamos o **RandomForest com o auxílio da validação cruzada** para otimizar os hiperparâmetros do modelo.\n",
    "\n",
    "Aqui utilizamos o dataset tratado, porém contendo **apenas features numéricas** para efeito de comparação posteriormente."
   ]
  },
  {
   "cell_type": "markdown",
   "id": "7a0c7803",
   "metadata": {},
   "source": [
    "<img src=.\\images\\random_forest_1.png align=left>"
   ]
  },
  {
   "cell_type": "markdown",
   "id": "b0cfbd48",
   "metadata": {},
   "source": [
    "Observamos uma melhora considerável no f1-score da classe 1, porém notamos o recall ainda muito baixo."
   ]
  },
  {
   "cell_type": "markdown",
   "id": "6e5d5ed2",
   "metadata": {},
   "source": [
    "Testamos também com **Gradient Boosting e validação cruzada**, porém o resultado não sofreu nenhuma alteração."
   ]
  },
  {
   "cell_type": "markdown",
   "id": "2a55d7bc",
   "metadata": {},
   "source": [
    "Diante desses resultados (já esperados levando-se em consideração o grande desbalanceamento dos dados) decidimos lançar mão do **SMOTE** para balancear as classes artificialmente, resultando em:"
   ]
  },
  {
   "cell_type": "markdown",
   "id": "d09f13c6",
   "metadata": {},
   "source": [
    "<img src=.\\images\\random_forest_smote_1.png align=left>"
   ]
  },
  {
   "cell_type": "markdown",
   "id": "aecc490d",
   "metadata": {},
   "source": [
    "Obtivemos uma melhora interessante no recall da classe 1 com uso do RandomForest + Smote."
   ]
  },
  {
   "cell_type": "markdown",
   "id": "871fc902",
   "metadata": {},
   "source": [
    "Realizamos novas tentativas **alterando os scorings de avaliação dos modelos** e também **mantendo os outliers**, porém não tivemos sucesso."
   ]
  },
  {
   "cell_type": "markdown",
   "id": "31a7f14e",
   "metadata": {},
   "source": [
    "- [Link para o notebook contendo os códigos do modelo RandomForestClassifier + GB + Smote](./codigos/3.Modelagem_df_num_features.ipynb)"
   ]
  },
  {
   "cell_type": "markdown",
   "id": "950c2eb1",
   "metadata": {},
   "source": [
    "Inserimos também as **features categóricas** e aplicamos novamente o **RandomForest com o auxílio da validação cruzada**, porém nessa tentativa não utilizamos o SMOTE para balancear as classes."
   ]
  },
  {
   "cell_type": "markdown",
   "id": "80d59200",
   "metadata": {},
   "source": [
    "<img src=.\\images\\random_forest_2.png align=left>"
   ]
  },
  {
   "cell_type": "markdown",
   "id": "66eed117",
   "metadata": {},
   "source": [
    "Observamos que o resultado foi idêntico à tentaviva que fizemos anteriormente sem utilizar as features categóricas, indicando que as mesmas não possuem influência na capacidade preditiva do modelo."
   ]
  },
  {
   "cell_type": "markdown",
   "id": "fbeaaef4",
   "metadata": {},
   "source": [
    "Por fim aplicamos o SMOTE no dataset tratado (contendo features numéricas e categóricas) resultando em:"
   ]
  },
  {
   "cell_type": "markdown",
   "id": "6e7a4538",
   "metadata": {},
   "source": [
    "<img src=.\\images\\random_forest_smote_2.png align=left>"
   ]
  },
  {
   "cell_type": "markdown",
   "id": "1aacd7ee",
   "metadata": {},
   "source": [
    "Praticamente sem alterações se comparado com o resultado do RandomForest + SMOTE sem a utilização das features categóricas."
   ]
  },
  {
   "cell_type": "markdown",
   "id": "6d771a76",
   "metadata": {},
   "source": [
    "- [Link para o notebook contendo os códigos do modelo final](./codigos/4.Modelagem_df_final.ipynb)"
   ]
  },
  {
   "cell_type": "markdown",
   "id": "8215e227",
   "metadata": {},
   "source": [
    "## Conclusões"
   ]
  },
  {
   "cell_type": "markdown",
   "id": "aacd4cac",
   "metadata": {},
   "source": [
    "- Comparando os resultados de diversos modelos, pudemos notar a importância da seleção de features (garbage in, gargabe out)\n",
    "- Por não conhecer os detalhes do negócio, realizamos alguns tratamentos de forma genérica (ex: exclusão de dados nulos e outliers)\n",
    "- A inclusão de dados presentes em outros datasets poderia gerar novas features importantes para a classificação, porém o processo de EDA consumiu um tempo elevado e não conseguimos realizar esses testes\n",
    "- Possivelmente modelos como SVM se sairiam melhor na classificação devido à possível não separabilidade linear dos dados"
   ]
  },
  {
   "cell_type": "code",
   "execution_count": null,
   "id": "417a80ce",
   "metadata": {},
   "outputs": [],
   "source": []
  }
 ],
 "metadata": {
  "kernelspec": {
   "display_name": "Python 3.9.5 64-bit",
   "language": "python",
   "name": "python3"
  },
  "language_info": {
   "codemirror_mode": {
    "name": "ipython",
    "version": 3
   },
   "file_extension": ".py",
   "mimetype": "text/x-python",
   "name": "python",
   "nbconvert_exporter": "python",
   "pygments_lexer": "ipython3",
   "version": "3.9.5"
  },
  "vscode": {
   "interpreter": {
    "hash": "c9f6bc6e44df4cd9d5495b313982f52e3be4c1b2e56e3a5a86617fa1d9dab216"
   }
  }
 },
 "nbformat": 4,
 "nbformat_minor": 5
}
