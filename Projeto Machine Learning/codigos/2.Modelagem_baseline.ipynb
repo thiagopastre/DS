{
 "cells": [
  {
   "cell_type": "code",
   "execution_count": 1,
   "id": "76e65f5b",
   "metadata": {},
   "outputs": [],
   "source": [
    "import warnings\n",
    "import pandas as pd\n",
    "import numpy as np\n",
    "from sklearn.pipeline import Pipeline\n",
    "from sklearn.impute import SimpleImputer\n",
    "from sklearn.model_selection import train_test_split\n",
    "from sklearn.linear_model import LogisticRegression\n",
    "from sklearn.metrics import classification_report\n",
    "\n",
    "# ignorando warnings\n",
    "warnings.filterwarnings('ignore')"
   ]
  },
  {
   "cell_type": "code",
   "execution_count": 2,
   "id": "dbe94719",
   "metadata": {},
   "outputs": [],
   "source": [
    "# Carregando os dados\n",
    "\n",
    "df_train = pd.read_csv('../datasets/application_train.csv')\n",
    "df_train.drop(['SK_ID_CURR'], axis=1, inplace=True)"
   ]
  },
  {
   "cell_type": "code",
   "execution_count": 3,
   "id": "4b5d9c4b",
   "metadata": {},
   "outputs": [],
   "source": [
    "# Mantendo apenas as features numéricas\n",
    "\n",
    "numeric_features = df_train.select_dtypes(include=np.number)"
   ]
  },
  {
   "cell_type": "markdown",
   "id": "e954699e",
   "metadata": {},
   "source": [
    "#### Modelo Baseline (apenas inserimos o valor da mediana onde haviam valores nulos e descartamos as features categóricas)"
   ]
  },
  {
   "cell_type": "code",
   "execution_count": 9,
   "id": "df3da2a3",
   "metadata": {},
   "outputs": [
    {
     "name": "stdout",
     "output_type": "stream",
     "text": [
      "              precision    recall  f1-score   support\n",
      "\n",
      "           0       0.92      1.00      0.96     84806\n",
      "           1       0.00      0.00      0.00      7448\n",
      "\n",
      "    accuracy                           0.92     92254\n",
      "   macro avg       0.46      0.50      0.48     92254\n",
      "weighted avg       0.85      0.92      0.88     92254\n",
      "\n"
     ]
    }
   ],
   "source": [
    "x = numeric_features.drop(columns=['TARGET'])\n",
    "y = numeric_features['TARGET']\n",
    "\n",
    "# Separando treino, teste\n",
    "x_train, x_test, y_train, y_test = train_test_split(x,y, test_size=0.3, stratify = y, random_state = 42)\n",
    "\n",
    "# Pipeline\n",
    "model_pipe = Pipeline([\n",
    "    ('transformer',SimpleImputer(strategy='median', missing_values=np.nan)),\n",
    "    ('model',LogisticRegression(max_iter=1000, random_state=42))\n",
    "])\n",
    "\n",
    "# Ajustando o modelo\n",
    "model_pipe.fit(x_train, y_train)\n",
    "\n",
    "# Realizando predições\n",
    "yhat = model_pipe.predict(x_test)\n",
    "\n",
    "# Checando o desempenho do modelo\n",
    "print(classification_report(y_test, yhat))"
   ]
  },
  {
   "cell_type": "markdown",
   "id": "361186de",
   "metadata": {},
   "source": [
    "### Conclusão"
   ]
  },
  {
   "cell_type": "markdown",
   "id": "c7e8885b",
   "metadata": {},
   "source": [
    "Sem realizar o tratamento adequado dos dados não conseguimos identificar nenhum elemento pertencente a classe 1, então temos um modelo inútil."
   ]
  }
 ],
 "metadata": {
  "kernelspec": {
   "display_name": "Python 3",
   "language": "python",
   "name": "python3"
  },
  "language_info": {
   "codemirror_mode": {
    "name": "ipython",
    "version": 3
   },
   "file_extension": ".py",
   "mimetype": "text/x-python",
   "name": "python",
   "nbconvert_exporter": "python",
   "pygments_lexer": "ipython3",
   "version": "3.9.5"
  }
 },
 "nbformat": 4,
 "nbformat_minor": 5
}
