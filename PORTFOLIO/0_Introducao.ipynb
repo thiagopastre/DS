{
 "cells": [
  {
   "cell_type": "markdown",
   "metadata": {},
   "source": [
    "### **Introdução**\n",
    "\n",
    "<img src=\"https://business.yelp.com/wp-content/uploads/2022/03/social-sharing-2400x1254-1-1200x630.jpg\" width=\"400\" height=\"200\" />\n",
    "\n",
    "Fundado em 2004, o Yelp é um serviço popular para descobrir negócios locais, desde bares, restaurantes e cafés a cabeleireiros, spas e postos de gasolina.\n",
    "\n",
    "Você pode pesquisar o [Yelp](https://www.yelp.com.br/) por meio de seu site ou com os aplicativos oficiais em dispositivos inteligentes iOS e Android. As listagens são classificadas por tipo de negócio e os resultados são filtrados por localização geográfica, faixa de preço e recursos exclusivos, como lugares ao ar livre, serviço de entrega ou capacidade de aceitar reservas.\n",
    "\n",
    "O Yelp tem um forte aspecto social e incentiva seus usuários a deixar comentários por escrito, avaliações com estrelas e fotos de sua experiência com cada empresa que visitam.\n",
    "\n",
    "Cada conta do Yelp possui uma lista de amigos que pode ser preenchida conectando o aplicativo ao Facebook e à agenda de endereços de um smartphone ou tablet. As resenhas postadas no Yelp também podem ser revisadas por outros usuários, enquanto os revisores populares têm o potencial de serem promovidos ao status Yelp Elite.\n",
    "<br />\n",
    "<br />\n",
    "<br />"
   ]
  },
  {
   "attachments": {},
   "cell_type": "markdown",
   "metadata": {},
   "source": [
    "### **Objetivo**\n",
    "\n",
    "Aplicar os conhecimentos adquiridos durante os 14 meses de duração do treinamento Data Science Degree ministrado pela Let's Code (atualmente Ada Tech).\n",
    "\n",
    "Esse projeto será dividido em algumas etapas onde realizarei uma análise exploratória dos dados (EDA) além de aplicar manipulações e transformações em cada dataset gerado através dos arquivos JSON mencionados no tópico seguinte.\n",
    "\n",
    "Também serão aplicados alguns modelos de Machine Learning para prever os resultados.\n",
    "<br />\n",
    "<br />\n",
    "<br />"
   ]
  },
  {
   "cell_type": "markdown",
   "metadata": {},
   "source": [
    "### **Dataset**\n",
    "O conjunto de dados do Yelp é um subconjunto de seus negócios, avaliações e dados de usuários para uso pessoal, educacional e acadêmico.\n",
    "\n",
    "[Link para download do dataset](https://www.yelp.com/dataset)"
   ]
  },
  {
   "cell_type": "markdown",
   "metadata": {},
   "source": [
    "Esse conjunto de dados é composto por 6 arquivos JSON:\n",
    "\n",
    "1. Business: Contém dados de negócios, incluindo dados de localização, atributos e categorias\n",
    "2. Review: Contém dados completos do texto da resenha, incluindo o user_id que escreveu a resenha e o business_id para o qual a resenha foi escrita\n",
    "3. User: Dados do usuário, incluindo o mapeamento de amigos do usuário e todos os metadados associados ao usuário\n",
    "4. Checkin: Check-ins em um negócio\n",
    "5. Tip: Dicas escritas por um usuário em um negócio. As dicas são mais curtas do que as avaliações e tendem a transmitir sugestões rápidas\n",
    "6. Photo: Contém dados da foto incluindo a legenda e classificação (uma de \"comida\", \"bebida\", \"cardápio\", \"dentro\" ou \"fora\")\n",
    "<br />\n",
    "<br />\n",
    "<br />"
   ]
  },
  {
   "attachments": {},
   "cell_type": "markdown",
   "metadata": {},
   "source": [
    "### **Dicionário de dados**\n",
    "\n",
    "[Link para o dicionário de dados](https://www.yelp.com/dataset/documentation/main)\n",
    "<br />\n",
    "<br />\n",
    "<br />"
   ]
  },
  {
   "attachments": {},
   "cell_type": "markdown",
   "metadata": {},
   "source": [
    "### **Etapas do projeto**\n",
    "\n",
    "1. [EDA + feature engineering do arquivo business.json](./2_Business.ipynb) [Em desenvolvimento]"
   ]
  },
  {
   "attachments": {},
   "cell_type": "markdown",
   "metadata": {},
   "source": [
    "12/12/2022"
   ]
  }
 ],
 "metadata": {
  "kernelspec": {
   "display_name": "Python 3.9.5 64-bit",
   "language": "python",
   "name": "python3"
  },
  "language_info": {
   "codemirror_mode": {
    "name": "ipython",
    "version": 3
   },
   "file_extension": ".py",
   "mimetype": "text/x-python",
   "name": "python",
   "nbconvert_exporter": "python",
   "pygments_lexer": "ipython3",
   "version": "3.9.5 (tags/v3.9.5:0a7dcbd, May  3 2021, 17:27:52) [MSC v.1928 64 bit (AMD64)]"
  },
  "orig_nbformat": 4,
  "vscode": {
   "interpreter": {
    "hash": "c9f6bc6e44df4cd9d5495b313982f52e3be4c1b2e56e3a5a86617fa1d9dab216"
   }
  }
 },
 "nbformat": 4,
 "nbformat_minor": 2
}
