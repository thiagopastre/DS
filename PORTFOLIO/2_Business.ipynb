{
 "cells": [
  {
   "cell_type": "markdown",
   "metadata": {},
   "source": [
    "#### 1. Importando as bibliotecas "
   ]
  },
  {
   "cell_type": "code",
   "execution_count": 1,
   "metadata": {},
   "outputs": [],
   "source": [
    "import os\n",
    "import pandas as pd\n",
    "import numpy as np\n",
    "import matplotlib.pyplot as plt\n",
    "import seaborn as sns"
   ]
  },
  {
   "cell_type": "markdown",
   "metadata": {},
   "source": [
    "#### 2. Realizando a leitura do arquivo e criando o dataset "
   ]
  },
  {
   "cell_type": "code",
   "execution_count": 2,
   "metadata": {},
   "outputs": [
    {
     "data": {
      "text/html": [
       "<div>\n",
       "<style scoped>\n",
       "    .dataframe tbody tr th:only-of-type {\n",
       "        vertical-align: middle;\n",
       "    }\n",
       "\n",
       "    .dataframe tbody tr th {\n",
       "        vertical-align: top;\n",
       "    }\n",
       "\n",
       "    .dataframe thead th {\n",
       "        text-align: right;\n",
       "    }\n",
       "</style>\n",
       "<table border=\"1\" class=\"dataframe\">\n",
       "  <thead>\n",
       "    <tr style=\"text-align: right;\">\n",
       "      <th></th>\n",
       "      <th>business_id</th>\n",
       "      <th>name</th>\n",
       "      <th>address</th>\n",
       "      <th>city</th>\n",
       "      <th>state</th>\n",
       "      <th>postal_code</th>\n",
       "      <th>latitude</th>\n",
       "      <th>longitude</th>\n",
       "      <th>stars</th>\n",
       "      <th>review_count</th>\n",
       "      <th>is_open</th>\n",
       "      <th>attributes</th>\n",
       "      <th>categories</th>\n",
       "      <th>hours</th>\n",
       "    </tr>\n",
       "  </thead>\n",
       "  <tbody>\n",
       "    <tr>\n",
       "      <th>0</th>\n",
       "      <td>Pns2l4eNsfO8kk83dixA6A</td>\n",
       "      <td>Abby Rappoport, LAC, CMQ</td>\n",
       "      <td>1616 Chapala St, Ste 2</td>\n",
       "      <td>Santa Barbara</td>\n",
       "      <td>CA</td>\n",
       "      <td>93101</td>\n",
       "      <td>34.426679</td>\n",
       "      <td>-119.711197</td>\n",
       "      <td>5.0</td>\n",
       "      <td>7</td>\n",
       "      <td>0</td>\n",
       "      <td>{'ByAppointmentOnly': 'True'}</td>\n",
       "      <td>Doctors, Traditional Chinese Medicine, Naturop...</td>\n",
       "      <td>None</td>\n",
       "    </tr>\n",
       "    <tr>\n",
       "      <th>1</th>\n",
       "      <td>mpf3x-BjTdTEA3yCZrAYPw</td>\n",
       "      <td>The UPS Store</td>\n",
       "      <td>87 Grasso Plaza Shopping Center</td>\n",
       "      <td>Affton</td>\n",
       "      <td>MO</td>\n",
       "      <td>63123</td>\n",
       "      <td>38.551126</td>\n",
       "      <td>-90.335695</td>\n",
       "      <td>3.0</td>\n",
       "      <td>15</td>\n",
       "      <td>1</td>\n",
       "      <td>{'BusinessAcceptsCreditCards': 'True'}</td>\n",
       "      <td>Shipping Centers, Local Services, Notaries, Ma...</td>\n",
       "      <td>{'Monday': '0:0-0:0', 'Tuesday': '8:0-18:30', ...</td>\n",
       "    </tr>\n",
       "    <tr>\n",
       "      <th>2</th>\n",
       "      <td>tUFrWirKiKi_TAnsVWINQQ</td>\n",
       "      <td>Target</td>\n",
       "      <td>5255 E Broadway Blvd</td>\n",
       "      <td>Tucson</td>\n",
       "      <td>AZ</td>\n",
       "      <td>85711</td>\n",
       "      <td>32.223236</td>\n",
       "      <td>-110.880452</td>\n",
       "      <td>3.5</td>\n",
       "      <td>22</td>\n",
       "      <td>0</td>\n",
       "      <td>{'BikeParking': 'True', 'BusinessAcceptsCredit...</td>\n",
       "      <td>Department Stores, Shopping, Fashion, Home &amp; G...</td>\n",
       "      <td>{'Monday': '8:0-22:0', 'Tuesday': '8:0-22:0', ...</td>\n",
       "    </tr>\n",
       "  </tbody>\n",
       "</table>\n",
       "</div>"
      ],
      "text/plain": [
       "              business_id                      name  \\\n",
       "0  Pns2l4eNsfO8kk83dixA6A  Abby Rappoport, LAC, CMQ   \n",
       "1  mpf3x-BjTdTEA3yCZrAYPw             The UPS Store   \n",
       "2  tUFrWirKiKi_TAnsVWINQQ                    Target   \n",
       "\n",
       "                           address           city state postal_code  \\\n",
       "0           1616 Chapala St, Ste 2  Santa Barbara    CA       93101   \n",
       "1  87 Grasso Plaza Shopping Center         Affton    MO       63123   \n",
       "2             5255 E Broadway Blvd         Tucson    AZ       85711   \n",
       "\n",
       "    latitude   longitude  stars  review_count  is_open  \\\n",
       "0  34.426679 -119.711197    5.0             7        0   \n",
       "1  38.551126  -90.335695    3.0            15        1   \n",
       "2  32.223236 -110.880452    3.5            22        0   \n",
       "\n",
       "                                          attributes  \\\n",
       "0                      {'ByAppointmentOnly': 'True'}   \n",
       "1             {'BusinessAcceptsCreditCards': 'True'}   \n",
       "2  {'BikeParking': 'True', 'BusinessAcceptsCredit...   \n",
       "\n",
       "                                          categories  \\\n",
       "0  Doctors, Traditional Chinese Medicine, Naturop...   \n",
       "1  Shipping Centers, Local Services, Notaries, Ma...   \n",
       "2  Department Stores, Shopping, Fashion, Home & G...   \n",
       "\n",
       "                                               hours  \n",
       "0                                               None  \n",
       "1  {'Monday': '0:0-0:0', 'Tuesday': '8:0-18:30', ...  \n",
       "2  {'Monday': '8:0-22:0', 'Tuesday': '8:0-22:0', ...  "
      ]
     },
     "execution_count": 2,
     "metadata": {},
     "output_type": "execute_result"
    }
   ],
   "source": [
    "# Definindo uma variável com o caminho para os arquivos JSON\n",
    "path = os.getcwd() + '\\\\JSON'\n",
    "\n",
    "# Realizando a leitura do arquivo \"business.json\" e criando o dataset\n",
    "business = pd.read_json(path + '\\\\business.json', lines=True)\n",
    "\n",
    "# Exibindo as primeiras linhas do dataset para confirmar se o arquivo foi lido corretamente\n",
    "business.head(3)"
   ]
  },
  {
   "cell_type": "markdown",
   "metadata": {},
   "source": [
    "#### 3. EDA"
   ]
  },
  {
   "cell_type": "code",
   "execution_count": 3,
   "metadata": {},
   "outputs": [
    {
     "name": "stdout",
     "output_type": "stream",
     "text": [
      "<class 'pandas.core.frame.DataFrame'>\n",
      "RangeIndex: 150346 entries, 0 to 150345\n",
      "Data columns (total 14 columns):\n",
      " #   Column        Non-Null Count   Dtype  \n",
      "---  ------        --------------   -----  \n",
      " 0   business_id   150346 non-null  object \n",
      " 1   name          150346 non-null  object \n",
      " 2   address       150346 non-null  object \n",
      " 3   city          150346 non-null  object \n",
      " 4   state         150346 non-null  object \n",
      " 5   postal_code   150346 non-null  object \n",
      " 6   latitude      150346 non-null  float64\n",
      " 7   longitude     150346 non-null  float64\n",
      " 8   stars         150346 non-null  float64\n",
      " 9   review_count  150346 non-null  int64  \n",
      " 10  is_open       150346 non-null  int64  \n",
      " 11  attributes    136602 non-null  object \n",
      " 12  categories    150243 non-null  object \n",
      " 13  hours         127123 non-null  object \n",
      "dtypes: float64(3), int64(2), object(9)\n",
      "memory usage: 16.1+ MB\n"
     ]
    }
   ],
   "source": [
    "business.info()"
   ]
  },
  {
   "cell_type": "markdown",
   "metadata": {},
   "source": [
    "* Observa-se que cada linha desse dataset contém informações referentes à um negócio único (150.346 negócios cadastrados).\n",
    "\n",
    "* Nota-se a presença de valores faltantes nas 3 últimas features do dataset (attributes, categories e hours). Tratarei dessa questão posteriormente."
   ]
  },
  {
   "cell_type": "code",
   "execution_count": 4,
   "metadata": {},
   "outputs": [
    {
     "data": {
      "image/png": "[encoded data removed]",
      "text/plain": [
       "<Figure size 1080x288 with 2 Axes>"
      ]
     },
     "metadata": {
      "needs_background": "light"
     },
     "output_type": "display_data"
    }
   ],
   "source": [
    "# Verificando a distribuição da feature 'stars' (que será o target do nosso futuro modelo)\n",
    "\n",
    "stars = business['stars'].agg('value_counts')\n",
    "\n",
    "fig, ax = plt.subplots(1,2, figsize=[15,4])\n",
    "\n",
    "sns.boxplot(ax=ax[0],\n",
    "            data=business,\n",
    "            x='stars',\n",
    "            palette='PuBu'\n",
    "           )\n",
    "\n",
    "sns.barplot(ax=ax[1],\n",
    "            x=stars.index,\n",
    "            y=stars,\n",
    "            palette='PuBu'\n",
    "           )\n",
    "\n",
    "fig.suptitle('Distribuição da feature \"stars\"')\n",
    "ax[1].set_xlabel('stars')\n",
    "ax[1].set_ylabel('Quantidade de avaliações')\n",
    "plt.show()"
   ]
  },
  {
   "cell_type": "code",
   "execution_count": 5,
   "metadata": {},
   "outputs": [
    {
     "data": {
      "text/plain": [
       "count    150346.000000\n",
       "mean          3.596724\n",
       "std           0.974421\n",
       "min           1.000000\n",
       "25%           3.000000\n",
       "50%           3.500000\n",
       "75%           4.500000\n",
       "max           5.000000\n",
       "Name: stars, dtype: float64"
      ]
     },
     "execution_count": 5,
     "metadata": {},
     "output_type": "execute_result"
    }
   ],
   "source": [
    "business['stars'].describe()"
   ]
  },
  {
   "cell_type": "code",
   "execution_count": 9,
   "metadata": {},
   "outputs": [
    {
     "data": {
      "text/html": [
       "<div>\n",
       "<style scoped>\n",
       "    .dataframe tbody tr th:only-of-type {\n",
       "        vertical-align: middle;\n",
       "    }\n",
       "\n",
       "    .dataframe tbody tr th {\n",
       "        vertical-align: top;\n",
       "    }\n",
       "\n",
       "    .dataframe thead th {\n",
       "        text-align: right;\n",
       "    }\n",
       "</style>\n",
       "<table border=\"1\" class=\"dataframe\">\n",
       "  <thead>\n",
       "    <tr style=\"text-align: right;\">\n",
       "      <th></th>\n",
       "      <th>state</th>\n",
       "      <th>is_open</th>\n",
       "      <th>total</th>\n",
       "    </tr>\n",
       "  </thead>\n",
       "  <tbody>\n",
       "    <tr>\n",
       "      <th>0</th>\n",
       "      <td>PA</td>\n",
       "      <td>26289</td>\n",
       "      <td>34039</td>\n",
       "    </tr>\n",
       "    <tr>\n",
       "      <th>1</th>\n",
       "      <td>FL</td>\n",
       "      <td>21540</td>\n",
       "      <td>26330</td>\n",
       "    </tr>\n",
       "    <tr>\n",
       "      <th>2</th>\n",
       "      <td>TN</td>\n",
       "      <td>9600</td>\n",
       "      <td>12056</td>\n",
       "    </tr>\n",
       "    <tr>\n",
       "      <th>3</th>\n",
       "      <td>IN</td>\n",
       "      <td>8946</td>\n",
       "      <td>11247</td>\n",
       "    </tr>\n",
       "    <tr>\n",
       "      <th>4</th>\n",
       "      <td>MO</td>\n",
       "      <td>8363</td>\n",
       "      <td>10913</td>\n",
       "    </tr>\n",
       "  </tbody>\n",
       "</table>\n",
       "</div>"
      ],
      "text/plain": [
       "  state  is_open  total\n",
       "0    PA    26289  34039\n",
       "1    FL    21540  26330\n",
       "2    TN     9600  12056\n",
       "3    IN     8946  11247\n",
       "4    MO     8363  10913"
      ]
     },
     "execution_count": 9,
     "metadata": {},
     "output_type": "execute_result"
    }
   ],
   "source": [
    "# Criando um Dataframe contendo a quantidade total de negócios (abertos e fechados) agrupados por Estado\n",
    "\n",
    "df_total_business = business[['state','is_open']].groupby('state').sum()\n",
    "df_total_business['total'] = business[['state','is_open']].groupby('state').count()\n",
    "df_total_business = df_total_business.sort_values(by='total', ascending=False).reset_index()\n",
    "df_total_business.head()"
   ]
  },
  {
   "cell_type": "code",
   "execution_count": 10,
   "metadata": {},
   "outputs": [
    {
     "data": {
      "image/png": "[encoded data removed]",
      "text/plain": [
       "<Figure size 1080x432 with 1 Axes>"
      ]
     },
     "metadata": {
      "needs_background": "light"
     },
     "output_type": "display_data"
    }
   ],
   "source": [
    "# Verificando os Estados que possuem a maior quantidade de negócios cadastrados\n",
    "\n",
    "fig, ax = plt.subplots(figsize=[15,6])\n",
    "\n",
    "ax = sns.barplot(x=df_total_business['state'],\n",
    "                 y=df_total_business['total'],\n",
    "                 palette='PuBu_r'\n",
    "                )\n",
    "for i in ax.containers:\n",
    "    ax.bar_label(i,)\n",
    "\n",
    "ax.set(xlabel='Estados',\n",
    "       ylabel='Quantidade',\n",
    "       title='Quantidade de negócios cadastrados por Estado'\n",
    "      )\n",
    "plt.show()"
   ]
  },
  {
   "cell_type": "code",
   "execution_count": 11,
   "metadata": {},
   "outputs": [
    {
     "data": {
      "image/png": "[encoded data removed]",
      "text/plain": [
       "<Figure size 1080x432 with 1 Axes>"
      ]
     },
     "metadata": {
      "needs_background": "light"
     },
     "output_type": "display_data"
    }
   ],
   "source": [
    "# Verificando a diferença entre negócios abertos x fechados por Estado\n",
    "\n",
    "fig, ax = plt.subplots(figsize=[15,6])\n",
    "\n",
    "plt.bar(x=df_total_business['state'], height=df_total_business['is_open'])\n",
    "plt.bar(x=df_total_business['state'], height=(df_total_business['total'] - df_total_business['is_open']))\n",
    "\n",
    "ax.set(xlabel='Estados',\n",
    "       ylabel='Quantidade',\n",
    "       title='Quantidade de negócios abertos x fechados por Estado'\n",
    "      )\n",
    "      \n",
    "plt.legend(['Open','Closed'])\n",
    "plt.show()"
   ]
  },
  {
   "cell_type": "markdown",
   "metadata": {},
   "source": [
    "#### 4. Feature Engineering"
   ]
  },
  {
   "attachments": {},
   "cell_type": "markdown",
   "metadata": {},
   "source": [
    "* Realizando o tratamento da feature 'CATEGORIES'"
   ]
  },
  {
   "cell_type": "code",
   "execution_count": 12,
   "metadata": {},
   "outputs": [],
   "source": [
    "# Classificando as categorias nulas como 'Unknown'\n",
    "\n",
    "business[\"categories\"].fillna(value='Unknown', inplace=True)"
   ]
  },
  {
   "cell_type": "code",
   "execution_count": 13,
   "metadata": {},
   "outputs": [
    {
     "data": {
      "text/plain": [
       "83161"
      ]
     },
     "execution_count": 13,
     "metadata": {},
     "output_type": "execute_result"
    }
   ],
   "source": [
    "# Verificando o total de categorias ÚNICAS cadastradas\n",
    "\n",
    "business[\"categories\"].nunique()"
   ]
  },
  {
   "attachments": {},
   "cell_type": "markdown",
   "metadata": {},
   "source": [
    "Cada linha contém várias categorias, separadas por vírgula e em formato string, associadas a um negócio único.\n",
    "\n",
    "Por esse motivo observamos uma quantidade tão elevada de categorias únicas presentes nessa feature (83.161)."
   ]
  },
  {
   "cell_type": "code",
   "execution_count": 14,
   "metadata": {},
   "outputs": [
    {
     "name": "stdout",
     "output_type": "stream",
     "text": [
      "Conteúdo da variável:  Doctors, Traditional Chinese Medicine, Naturopathic/Holistic, Acupuncture, Health & Medical, Nutritionists\n",
      "Tipo da variáveL:  <class 'str'>\n"
     ]
    }
   ],
   "source": [
    "print(f'Conteúdo da variável: ', business['categories'][0])\n",
    "print(f'Tipo da variáveL: ', type(business['categories'][0]))"
   ]
  },
  {
   "cell_type": "code",
   "execution_count": 15,
   "metadata": {},
   "outputs": [
    {
     "data": {
      "text/plain": [
       "Beauty & Spas, Nail Salons    1012\n",
       "Restaurants, Pizza             935\n",
       "Nail Salons, Beauty & Spas     934\n",
       "Pizza, Restaurants             823\n",
       "Restaurants, Mexican           728\n",
       "Restaurants, Chinese           708\n",
       "Mexican, Restaurants           672\n",
       "Chinese, Restaurants           651\n",
       "Food, Coffee & Tea             508\n",
       "Beauty & Spas, Hair Salons     493\n",
       "Name: categories, dtype: int64"
      ]
     },
     "execution_count": 15,
     "metadata": {},
     "output_type": "execute_result"
    }
   ],
   "source": [
    "# Verificando as top 10 categorias que possuem mais negócios cadastrados\n",
    "\n",
    "business['categories'].value_counts().head(10)"
   ]
  },
  {
   "attachments": {},
   "cell_type": "markdown",
   "metadata": {},
   "source": [
    "Podemos notar que existem inconsistências como 'Restaurants, Mexican' e 'Mexican, Restaurants' sendo identificados como categorias únicas.\n",
    "\n",
    "Utilizei o código abaixo para \"desmembrar\" as strings e extrair apenas as categorias únicas.\n",
    "\n",
    "Em seguida resolvi atribuir números a cada uma das categorias únicas identificadas anteriormente e assim consegui minimizar o problema da \"duplicidade\" dos dados:\n",
    "\n",
    "Exemplo:\n",
    "\n",
    "'Restaurants, Mexican' recebe os valores 8 e 20 respectivamente. Quando somados resulta em 28.\n",
    "\n",
    "'Mexican, Restaurants' recebe os valores 20 e 8 respectivamente. Quando somados também resulta em 28.\n",
    "\n",
    "Dessa forma ambos serão classificados como uma única categoria."
   ]
  },
  {
   "cell_type": "code",
   "execution_count": 58,
   "metadata": {},
   "outputs": [],
   "source": [
    "unique_categs = [] #Lista que irá conter as categorias únicas\n",
    "categ_num_list = [] #Lista que irá conter as categorias transformadas em inteiros\n",
    "\n",
    "# Percorrendo cada valor da coluna 'categories'\n",
    "for categ in business['categories']:\n",
    "    # Por se tratar de uma única string com valores separados por vírgula\n",
    "    # utilizei o método split para separar as palavras e gerar uma lista\n",
    "    categ = categ.split(',')\n",
    "    # Definindo a variável responsável por armazenar a soma dos valores\n",
    "    # atribuídos a cada categoria \n",
    "    categ_num = 0\n",
    "    # Percorrendo a lista gerada pelo comando 'split'\n",
    "    for i in categ:\n",
    "        # Removendo os espaços de cada valor\n",
    "        i = i.replace(' ','')\n",
    "        # Verificando se o valor não se encontra na lista 'unique_categs'\n",
    "        # e apendando à lista caso a condição seja satisfeita\n",
    "        if i not in unique_categs:\n",
    "            unique_categs.append(i)\n",
    "        # Realizando a soma dos valores de cada categoria baseado no índice das mesmas\n",
    "        categ_num += unique_categs.index(i)\n",
    "    # Apendando na lista 'categ_num_list'   \n",
    "    categ_num_list.append(categ_num)\n",
    "\n",
    "# Incorporando os novos valores ao dataset\n",
    "business['categ_num'] = categ_num_list"
   ]
  },
  {
   "cell_type": "code",
   "execution_count": 60,
   "metadata": {},
   "outputs": [
    {
     "data": {
      "text/plain": [
       "4008"
      ]
     },
     "execution_count": 60,
     "metadata": {},
     "output_type": "execute_result"
    }
   ],
   "source": [
    "# Verificando novamente o total de categorias ÚNICAS cadastradas após os tratamentos realizados no passo anterior\n",
    "\n",
    "business['categ_num'].nunique()"
   ]
  },
  {
   "cell_type": "code",
   "execution_count": 61,
   "metadata": {},
   "outputs": [
    {
     "data": {
      "text/plain": [
       "['Doctors',\n",
       " 'TraditionalChineseMedicine',\n",
       " 'Naturopathic/Holistic',\n",
       " 'Acupuncture',\n",
       " 'Health&Medical',\n",
       " 'Nutritionists',\n",
       " 'ShippingCenters',\n",
       " 'LocalServices',\n",
       " 'Notaries',\n",
       " 'MailboxCenters']"
      ]
     },
     "execution_count": 61,
     "metadata": {},
     "output_type": "execute_result"
    }
   ],
   "source": [
    "# Exibindo algumas das categorias ÚNICAS extraídas\n",
    "\n",
    "unique_categs[:10]"
   ]
  },
  {
   "cell_type": "markdown",
   "metadata": {},
   "source": [
    "* Realizando o tratamento da feature 'ATTRIBUTES'"
   ]
  },
  {
   "cell_type": "code",
   "execution_count": 62,
   "metadata": {},
   "outputs": [],
   "source": [
    "# Classificando os atributos nulos como 'Unknown'\n",
    "\n",
    "business[\"attributes\"].fillna(value='Unknown', inplace=True)"
   ]
  },
  {
   "attachments": {},
   "cell_type": "markdown",
   "metadata": {},
   "source": [
    "Cada linha contém vários atributos no formato de dicionário, associados a um negócio único."
   ]
  },
  {
   "cell_type": "code",
   "execution_count": 65,
   "metadata": {},
   "outputs": [
    {
     "name": "stdout",
     "output_type": "stream",
     "text": [
      "Conteúdo da variável:  {'RestaurantsDelivery': 'False', 'OutdoorSeating': 'False', 'BusinessAcceptsCreditCards': 'False', 'BusinessParking': \"{'garage': False, 'street': True, 'validated': False, 'lot': False, 'valet': False}\", 'BikeParking': 'True', 'RestaurantsPriceRange2': '1', 'RestaurantsTakeOut': 'True', 'ByAppointmentOnly': 'False', 'WiFi': \"u'free'\", 'Alcohol': \"u'none'\", 'Caters': 'True'}\n",
      "Tipo da variáveL:  <class 'dict'>\n"
     ]
    }
   ],
   "source": [
    "print(f'Conteúdo da variável: ', business['attributes'][3])\n",
    "print(f'Tipo da variáveL: ', type(business['attributes'][3]))"
   ]
  },
  {
   "cell_type": "code",
   "execution_count": 84,
   "metadata": {},
   "outputs": [],
   "source": [
    "# Extraindo cada um dos atributos para verificar sua quantidade real\n",
    "\n",
    "unique_attributes = []\n",
    "\n",
    "# Percorrendo cada valor da coluna 'attributes'\n",
    "for attribute in business['attributes']:\n",
    "    # Observando apenas valores válidos\n",
    "    if attribute != 'Unknown':\n",
    "        for key in attribute.keys():\n",
    "            # Verificando se o valor não se encontra na lista unique_attributes\n",
    "            if key not in unique_attributes:\n",
    "                unique_attributes.append(key)"
   ]
  },
  {
   "cell_type": "code",
   "execution_count": 85,
   "metadata": {},
   "outputs": [
    {
     "data": {
      "text/plain": [
       "39"
      ]
     },
     "execution_count": 85,
     "metadata": {},
     "output_type": "execute_result"
    }
   ],
   "source": [
    "len(unique_attributes)"
   ]
  },
  {
   "attachments": {},
   "cell_type": "markdown",
   "metadata": {},
   "source": [
    "Próxima etapa do tratamento da feature 'ATTRIBUTES' está em desenvolvimento.. trago atualizações em breve!"
   ]
  },
  {
   "attachments": {},
   "cell_type": "markdown",
   "metadata": {},
   "source": [
    "12/12/2022"
   ]
  }
 ],
 "metadata": {
  "kernelspec": {
   "display_name": "Python 3.9.5 64-bit",
   "language": "python",
   "name": "python3"
  },
  "language_info": {
   "codemirror_mode": {
    "name": "ipython",
    "version": 3
   },
   "file_extension": ".py",
   "mimetype": "text/x-python",
   "name": "python",
   "nbconvert_exporter": "python",
   "pygments_lexer": "ipython3",
   "version": "3.9.5"
  },
  "orig_nbformat": 4,
  "vscode": {
   "interpreter": {
    "hash": "c9f6bc6e44df4cd9d5495b313982f52e3be4c1b2e56e3a5a86617fa1d9dab216"
   }
  }
 },
 "nbformat": 4,
 "nbformat_minor": 2
}
